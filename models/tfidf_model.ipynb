{
 "cells": [
  {
   "cell_type": "markdown",
   "metadata": {},
   "source": [
    "### Load Library"
   ]
  },
  {
   "cell_type": "code",
   "execution_count": 1,
   "metadata": {},
   "outputs": [],
   "source": [
    "import pandas as pd\n",
    "import numpy as np\n",
    "from sklearn.pipeline import Pipeline\n",
    "from sklearn.model_selection import cross_val_score\n",
    "from sklearn.feature_extraction.text import TfidfVectorizer"
   ]
  },
  {
   "cell_type": "code",
   "execution_count": 2,
   "metadata": {},
   "outputs": [],
   "source": [
    "import sys\n",
    "sys.path.append(\"..\")\n",
    "from modules import helper_functions as helper"
   ]
  },
  {
   "cell_type": "markdown",
   "metadata": {},
   "source": [
    "### Load Data"
   ]
  },
  {
   "cell_type": "code",
   "execution_count": 3,
   "metadata": {},
   "outputs": [],
   "source": [
    "df_jobs = pd.read_csv(\"../data/df_job_final.csv\")\n",
    "df_jobs.drop('Unnamed: 0', axis=1, inplace=True)\n",
    "\n",
    "df_resume = pd.read_csv(\"../data/data_resume_cc.csv\")\n",
    "df_resume.drop('Unnamed: 0', axis=1, inplace=True)"
   ]
  },
  {
   "cell_type": "code",
   "execution_count": null,
   "metadata": {},
   "outputs": [],
   "source": [
    "df_jobs.head(5)"
   ]
  },
  {
   "cell_type": "code",
   "execution_count": 5,
   "metadata": {},
   "outputs": [],
   "source": [
    "tfidf_jobs = TfidfVectorizer()\n",
    "# Generate matrix of word vectors\n",
    "tfidf_job_matrix = tfidf_jobs.fit_transform(df_jobs['description_combined'])\n",
    "\n",
    "df_tfidf_jobs = pd.DataFrame(tfidf_job_matrix.toarray())\n",
    "df_tfidf_jobs.columns = tfidf_jobs.get_feature_names_out()"
   ]
  },
  {
   "cell_type": "markdown",
   "metadata": {},
   "source": [
    "### Fillout job with NaN department"
   ]
  },
  {
   "cell_type": "code",
   "execution_count": 6,
   "metadata": {},
   "outputs": [],
   "source": [
    "df_jobs_nan = df_jobs[df_jobs['department'].isna() == True]\n",
    "df_jobs = df_jobs[df_jobs['department'].isna() == False]"
   ]
  },
  {
   "cell_type": "code",
   "execution_count": 7,
   "metadata": {},
   "outputs": [],
   "source": [
    "# train_test_val 60, 20, 20\n",
    "x_train_60, x_val_20, x_test_20, y_train_60, y_val_20, y_test_20 = helper.train_val_test_split(df_jobs['description_combined'], df_jobs['department'],0.6, 0.2, 0.2)\n",
    "# train_test_val 70, 15, 15\n",
    "x_train_70, x_val_15, x_test_15, y_train_70, y_val_15, y_test_15 = helper.train_val_test_split(df_jobs['description_combined'], df_jobs['department'],0.7, 0.15, 0.15)\n",
    "# train_test_val 80, 10, 10\n",
    "x_train_80, x_val_10, x_test_10, y_train_80, y_val_10, y_test_10 = helper.train_val_test_split(df_jobs['description_combined'], df_jobs['department'],0.8, 0.1, 0.1)"
   ]
  },
  {
   "cell_type": "markdown",
   "metadata": {},
   "source": [
    "### Random Forest"
   ]
  },
  {
   "cell_type": "code",
   "execution_count": 26,
   "metadata": {},
   "outputs": [
    {
     "name": "stderr",
     "output_type": "stream",
     "text": [
      "C:\\Users\\zwang684\\AppData\\Local\\Packages\\PythonSoftwareFoundation.Python.3.9_qbz5n2kfra8p0\\LocalCache\\local-packages\\Python39\\site-packages\\sklearn\\model_selection\\_split.py:676: UserWarning: The least populated class in y has only 1 members, which is less than n_splits=10.\n",
      "  warnings.warn(\n",
      "C:\\Users\\zwang684\\AppData\\Local\\Packages\\PythonSoftwareFoundation.Python.3.9_qbz5n2kfra8p0\\LocalCache\\local-packages\\Python39\\site-packages\\sklearn\\model_selection\\_split.py:676: UserWarning: The least populated class in y has only 1 members, which is less than n_splits=10.\n",
      "  warnings.warn(\n"
     ]
    },
    {
     "name": "stdout",
     "output_type": "stream",
     "text": [
      "accuracy: 0.5782918149466192, 10-fold: 0.39570802005012534\n"
     ]
    }
   ],
   "source": [
    "from sklearn.ensemble import RandomForestClassifier\n",
    "crit= [{\"criterion\": [\"gini\", \"entropy\"], \"bootstrap\": [True, False], \"n_jobs\": [4],\"n_estimators\": [100, 150, 200]}]\n",
    "\n",
    "\n",
    "tunned_nb_estimator = helper.tunning(model=RandomForestClassifier(),\n",
    "                                     vectorizer=tfidf_jobs,\n",
    "                                     crit=crit,\n",
    "                                     cv=4,\n",
    "                                     x=x_train_60,\n",
    "                                     y=y_train_60)\n",
    "rf_clf = Pipeline([\n",
    "    ('tf', tfidf_jobs),\n",
    "    ('clf', tunned_nb_estimator),\n",
    "])\n",
    "\n",
    "rf_clf.fit(x_train_60, y_train_60)\n",
    "pred = rf_clf.predict(x_test_20)\n",
    "accuracy = np.mean(pred == y_test_20)\n",
    "cross_val = cross_val_score(rf_clf, x_val_20, y_val_20, cv=10)\n",
    "print(f\"accuracy: {accuracy}, 10-fold: {np.mean(cross_val)}\")"
   ]
  },
  {
   "cell_type": "markdown",
   "metadata": {},
   "source": [
    "###  Naive Bayes"
   ]
  },
  {
   "cell_type": "code",
   "execution_count": 23,
   "metadata": {},
   "outputs": [
    {
     "name": "stderr",
     "output_type": "stream",
     "text": [
      "C:\\Users\\zwang684\\AppData\\Local\\Packages\\PythonSoftwareFoundation.Python.3.9_qbz5n2kfra8p0\\LocalCache\\local-packages\\Python39\\site-packages\\sklearn\\model_selection\\_split.py:676: UserWarning: The least populated class in y has only 1 members, which is less than n_splits=10.\n",
      "  warnings.warn(\n",
      "C:\\Users\\zwang684\\AppData\\Local\\Packages\\PythonSoftwareFoundation.Python.3.9_qbz5n2kfra8p0\\LocalCache\\local-packages\\Python39\\site-packages\\sklearn\\model_selection\\_split.py:676: UserWarning: The least populated class in y has only 1 members, which is less than n_splits=10.\n",
      "  warnings.warn(\n"
     ]
    },
    {
     "name": "stdout",
     "output_type": "stream",
     "text": [
      "accuracy: 0.5729537366548043, 10-fold: 0.41713659147869675\n"
     ]
    }
   ],
   "source": [
    "from sklearn.naive_bayes import MultinomialNB\n",
    "crit= [{\"alpha\": [0.001, 0.01, 0.1, 1], \"fit_prior\": [True, False]}]\n",
    "\n",
    "tunned_nb_estimator = helper.tunning(model=MultinomialNB(),\n",
    "                                     vectorizer=tfidf_jobs,\n",
    "                                     crit=crit,\n",
    "                                     cv=10,\n",
    "                                     x=x_train_60,\n",
    "                                     y=y_train_60)\n",
    "nb_clf = Pipeline([\n",
    "    ('tf', tfidf_jobs),\n",
    "    ('clf', tunned_nb_estimator),\n",
    "])\n",
    "\n",
    "nb_clf.fit(x_train_60, y_train_60)\n",
    "pred = nb_clf.predict(x_test_20)\n",
    "accuracy = np.mean(pred == y_test_20)\n",
    "cross_val = cross_val_score(nb_clf, x_val_20, y_val_20, cv=10)\n",
    "print(f\"accuracy: {accuracy}, 10-fold: {np.mean(cross_val)}\")"
   ]
  },
  {
   "cell_type": "code",
   "execution_count": 24,
   "metadata": {},
   "outputs": [
    {
     "name": "stderr",
     "output_type": "stream",
     "text": [
      "C:\\Users\\zwang684\\AppData\\Local\\Packages\\PythonSoftwareFoundation.Python.3.9_qbz5n2kfra8p0\\LocalCache\\local-packages\\Python39\\site-packages\\sklearn\\model_selection\\_split.py:676: UserWarning: The least populated class in y has only 1 members, which is less than n_splits=10.\n",
      "  warnings.warn(\n",
      "C:\\Users\\zwang684\\AppData\\Local\\Packages\\PythonSoftwareFoundation.Python.3.9_qbz5n2kfra8p0\\LocalCache\\local-packages\\Python39\\site-packages\\sklearn\\model_selection\\_split.py:676: UserWarning: The least populated class in y has only 1 members, which is less than n_splits=10.\n",
      "  warnings.warn(\n"
     ]
    },
    {
     "name": "stdout",
     "output_type": "stream",
     "text": [
      "accuracy: 0.5676959619952494, 10-fold: 0.3921373200442968\n"
     ]
    }
   ],
   "source": [
    "tunned_nb_estimator = helper.tunning(model=MultinomialNB(),\n",
    "                                     vectorizer=tfidf_jobs,\n",
    "                                     crit=crit,\n",
    "                                     cv=10,\n",
    "                                     x=x_train_70,\n",
    "                                     y=y_train_70)\n",
    "nb_clf = Pipeline([\n",
    "    ('tf', tfidf_jobs),\n",
    "    ('clf', tunned_nb_estimator),\n",
    "])\n",
    "\n",
    "nb_clf.fit(x_train_70, y_train_70)\n",
    "pred = nb_clf.predict(x_test_15)\n",
    "accuracy = np.mean(pred == y_test_15)\n",
    "cross_val = cross_val_score(nb_clf, x_val_15, y_val_15, cv=10)\n",
    "print(f\"accuracy: {accuracy}, 10-fold: {np.mean(cross_val)}\")"
   ]
  },
  {
   "cell_type": "code",
   "execution_count": 25,
   "metadata": {},
   "outputs": [
    {
     "name": "stderr",
     "output_type": "stream",
     "text": [
      "C:\\Users\\zwang684\\AppData\\Local\\Packages\\PythonSoftwareFoundation.Python.3.9_qbz5n2kfra8p0\\LocalCache\\local-packages\\Python39\\site-packages\\sklearn\\model_selection\\_split.py:676: UserWarning: The least populated class in y has only 1 members, which is less than n_splits=10.\n",
      "  warnings.warn(\n",
      "C:\\Users\\zwang684\\AppData\\Local\\Packages\\PythonSoftwareFoundation.Python.3.9_qbz5n2kfra8p0\\LocalCache\\local-packages\\Python39\\site-packages\\sklearn\\model_selection\\_split.py:676: UserWarning: The least populated class in y has only 1 members, which is less than n_splits=10.\n",
      "  warnings.warn(\n"
     ]
    },
    {
     "name": "stdout",
     "output_type": "stream",
     "text": [
      "accuracy: 0.604982206405694, 10-fold: 0.3769704433497537\n"
     ]
    }
   ],
   "source": [
    "tunned_nb_estimator = helper.tunning(model=MultinomialNB(),\n",
    "                                     vectorizer=tfidf_jobs,\n",
    "                                     crit=crit,\n",
    "                                     cv=10,\n",
    "                                     x=x_train_80,\n",
    "                                     y=y_train_80)\n",
    "nb_clf = Pipeline([\n",
    "    ('tf', tfidf_jobs),\n",
    "    ('clf', tunned_nb_estimator),\n",
    "])\n",
    "\n",
    "nb_clf.fit(x_train_80, y_train_80)\n",
    "pred = nb_clf.predict(x_test_10)\n",
    "accuracy = np.mean(pred == y_test_10)\n",
    "cross_val = cross_val_score(nb_clf, x_val_10, y_val_10, cv=10)\n",
    "print(f\"accuracy: {accuracy}, 10-fold: {np.mean(cross_val)}\")"
   ]
  },
  {
   "cell_type": "markdown",
   "metadata": {},
   "source": [
    "### Logistic Regression"
   ]
  },
  {
   "cell_type": "code",
   "execution_count": 35,
   "metadata": {},
   "outputs": [
    {
     "name": "stderr",
     "output_type": "stream",
     "text": [
      "C:\\Users\\zwang684\\AppData\\Local\\Packages\\PythonSoftwareFoundation.Python.3.9_qbz5n2kfra8p0\\LocalCache\\local-packages\\Python39\\site-packages\\sklearn\\model_selection\\_split.py:676: UserWarning: The least populated class in y has only 1 members, which is less than n_splits=4.\n",
      "  warnings.warn(\n"
     ]
    },
    {
     "ename": "ValueError",
     "evalue": "No fits were performed. Was the CV iterator empty? Were there no candidates?",
     "output_type": "error",
     "traceback": [
      "\u001b[1;31m---------------------------------------------------------------------------\u001b[0m",
      "\u001b[1;31mValueError\u001b[0m                                Traceback (most recent call last)",
      "\u001b[1;32m~\\AppData\\Local\\Temp/ipykernel_2940/3662605643.py\u001b[0m in \u001b[0;36m<module>\u001b[1;34m\u001b[0m\n\u001b[0;32m      3\u001b[0m \u001b[1;33m\u001b[0m\u001b[0m\n\u001b[0;32m      4\u001b[0m \u001b[1;33m\u001b[0m\u001b[0m\n\u001b[1;32m----> 5\u001b[1;33m tunned_nb_estimator = helper.tunning(model=LogisticRegression(random_state=41),\n\u001b[0m\u001b[0;32m      6\u001b[0m                                      \u001b[0mvectorizer\u001b[0m\u001b[1;33m=\u001b[0m\u001b[0mtfidf_jobs\u001b[0m\u001b[1;33m,\u001b[0m\u001b[1;33m\u001b[0m\u001b[1;33m\u001b[0m\u001b[0m\n\u001b[0;32m      7\u001b[0m                                      \u001b[0mcrit\u001b[0m\u001b[1;33m=\u001b[0m\u001b[0mcrit\u001b[0m\u001b[1;33m,\u001b[0m\u001b[1;33m\u001b[0m\u001b[1;33m\u001b[0m\u001b[0m\n",
      "\u001b[1;32mc:\\Users\\zwang684\\OneDrive - University of Ottawa\\Desktop\\resume-recommendation-system\\models\\..\\modules\\helper_functions.py\u001b[0m in \u001b[0;36mtunning\u001b[1;34m(model, vectorizer, crit, cv, x, y)\u001b[0m\n\u001b[0;32m      9\u001b[0m \u001b[1;32mdef\u001b[0m \u001b[0mtunning\u001b[0m\u001b[1;33m(\u001b[0m\u001b[0mmodel\u001b[0m\u001b[1;33m,\u001b[0m \u001b[0mvectorizer\u001b[0m\u001b[1;33m,\u001b[0m \u001b[0mcrit\u001b[0m\u001b[1;33m,\u001b[0m \u001b[0mcv\u001b[0m\u001b[1;33m,\u001b[0m \u001b[0mx\u001b[0m\u001b[1;33m,\u001b[0m \u001b[0my\u001b[0m\u001b[1;33m)\u001b[0m\u001b[1;33m:\u001b[0m\u001b[1;33m\u001b[0m\u001b[1;33m\u001b[0m\u001b[0m\n\u001b[0;32m     10\u001b[0m     \u001b[0mGrid\u001b[0m \u001b[1;33m=\u001b[0m \u001b[0mGridSearchCV\u001b[0m\u001b[1;33m(\u001b[0m\u001b[0mmodel\u001b[0m\u001b[1;33m,\u001b[0m \u001b[0mcrit\u001b[0m\u001b[1;33m,\u001b[0m \u001b[0mcv\u001b[0m\u001b[1;33m=\u001b[0m\u001b[0mcv\u001b[0m\u001b[1;33m)\u001b[0m\u001b[1;33m\u001b[0m\u001b[1;33m\u001b[0m\u001b[0m\n\u001b[1;32m---> 11\u001b[1;33m     \u001b[0mGrid\u001b[0m\u001b[1;33m.\u001b[0m\u001b[0mfit\u001b[0m\u001b[1;33m(\u001b[0m\u001b[0mvectorizer\u001b[0m\u001b[1;33m.\u001b[0m\u001b[0mfit_transform\u001b[0m\u001b[1;33m(\u001b[0m\u001b[0mx\u001b[0m\u001b[1;33m)\u001b[0m\u001b[1;33m,\u001b[0m \u001b[0my\u001b[0m\u001b[1;33m)\u001b[0m\u001b[1;33m\u001b[0m\u001b[1;33m\u001b[0m\u001b[0m\n\u001b[0m\u001b[0;32m     12\u001b[0m     \u001b[1;32mreturn\u001b[0m \u001b[0mGrid\u001b[0m\u001b[1;33m.\u001b[0m\u001b[0mbest_estimator_\u001b[0m\u001b[1;33m\u001b[0m\u001b[1;33m\u001b[0m\u001b[0m\n",
      "\u001b[1;32m~\\AppData\\Local\\Packages\\PythonSoftwareFoundation.Python.3.9_qbz5n2kfra8p0\\LocalCache\\local-packages\\Python39\\site-packages\\sklearn\\model_selection\\_search.py\u001b[0m in \u001b[0;36mfit\u001b[1;34m(self, X, y, groups, **fit_params)\u001b[0m\n\u001b[0;32m    889\u001b[0m                 \u001b[1;32mreturn\u001b[0m \u001b[0mresults\u001b[0m\u001b[1;33m\u001b[0m\u001b[1;33m\u001b[0m\u001b[0m\n\u001b[0;32m    890\u001b[0m \u001b[1;33m\u001b[0m\u001b[0m\n\u001b[1;32m--> 891\u001b[1;33m             \u001b[0mself\u001b[0m\u001b[1;33m.\u001b[0m\u001b[0m_run_search\u001b[0m\u001b[1;33m(\u001b[0m\u001b[0mevaluate_candidates\u001b[0m\u001b[1;33m)\u001b[0m\u001b[1;33m\u001b[0m\u001b[1;33m\u001b[0m\u001b[0m\n\u001b[0m\u001b[0;32m    892\u001b[0m \u001b[1;33m\u001b[0m\u001b[0m\n\u001b[0;32m    893\u001b[0m             \u001b[1;31m# multimetric is determined here because in the case of a callable\u001b[0m\u001b[1;33m\u001b[0m\u001b[1;33m\u001b[0m\u001b[0m\n",
      "\u001b[1;32m~\\AppData\\Local\\Packages\\PythonSoftwareFoundation.Python.3.9_qbz5n2kfra8p0\\LocalCache\\local-packages\\Python39\\site-packages\\sklearn\\model_selection\\_search.py\u001b[0m in \u001b[0;36m_run_search\u001b[1;34m(self, evaluate_candidates)\u001b[0m\n\u001b[0;32m   1390\u001b[0m     \u001b[1;32mdef\u001b[0m \u001b[0m_run_search\u001b[0m\u001b[1;33m(\u001b[0m\u001b[0mself\u001b[0m\u001b[1;33m,\u001b[0m \u001b[0mevaluate_candidates\u001b[0m\u001b[1;33m)\u001b[0m\u001b[1;33m:\u001b[0m\u001b[1;33m\u001b[0m\u001b[1;33m\u001b[0m\u001b[0m\n\u001b[0;32m   1391\u001b[0m         \u001b[1;34m\"\"\"Search all candidates in param_grid\"\"\"\u001b[0m\u001b[1;33m\u001b[0m\u001b[1;33m\u001b[0m\u001b[0m\n\u001b[1;32m-> 1392\u001b[1;33m         \u001b[0mevaluate_candidates\u001b[0m\u001b[1;33m(\u001b[0m\u001b[0mParameterGrid\u001b[0m\u001b[1;33m(\u001b[0m\u001b[0mself\u001b[0m\u001b[1;33m.\u001b[0m\u001b[0mparam_grid\u001b[0m\u001b[1;33m)\u001b[0m\u001b[1;33m)\u001b[0m\u001b[1;33m\u001b[0m\u001b[1;33m\u001b[0m\u001b[0m\n\u001b[0m\u001b[0;32m   1393\u001b[0m \u001b[1;33m\u001b[0m\u001b[0m\n\u001b[0;32m   1394\u001b[0m \u001b[1;33m\u001b[0m\u001b[0m\n",
      "\u001b[1;32m~\\AppData\\Local\\Packages\\PythonSoftwareFoundation.Python.3.9_qbz5n2kfra8p0\\LocalCache\\local-packages\\Python39\\site-packages\\sklearn\\model_selection\\_search.py\u001b[0m in \u001b[0;36mevaluate_candidates\u001b[1;34m(candidate_params, cv, more_results)\u001b[0m\n\u001b[0;32m    854\u001b[0m \u001b[1;33m\u001b[0m\u001b[0m\n\u001b[0;32m    855\u001b[0m                 \u001b[1;32mif\u001b[0m \u001b[0mlen\u001b[0m\u001b[1;33m(\u001b[0m\u001b[0mout\u001b[0m\u001b[1;33m)\u001b[0m \u001b[1;33m<\u001b[0m \u001b[1;36m1\u001b[0m\u001b[1;33m:\u001b[0m\u001b[1;33m\u001b[0m\u001b[1;33m\u001b[0m\u001b[0m\n\u001b[1;32m--> 856\u001b[1;33m                     raise ValueError(\n\u001b[0m\u001b[0;32m    857\u001b[0m                         \u001b[1;34m\"No fits were performed. \"\u001b[0m\u001b[1;33m\u001b[0m\u001b[1;33m\u001b[0m\u001b[0m\n\u001b[0;32m    858\u001b[0m                         \u001b[1;34m\"Was the CV iterator empty? \"\u001b[0m\u001b[1;33m\u001b[0m\u001b[1;33m\u001b[0m\u001b[0m\n",
      "\u001b[1;31mValueError\u001b[0m: No fits were performed. Was the CV iterator empty? Were there no candidates?"
     ]
    }
   ],
   "source": [
    "from sklearn.linear_model import LogisticRegression\n",
    "crit= [{\"penalty\": [\"l1\", \"l2\", \"elasticnet\"], \"solver\": [\"newton-cg\", \"lbfgs\", \"liblinear\", \"sag\", \"saga\"]}]\n",
    "\n",
    "\n",
    "tunned_nb_estimator = helper.tunning(model=LogisticRegression(random_state=41),\n",
    "                                     vectorizer=tfidf_jobs,\n",
    "                                     crit=crit,\n",
    "                                     cv=10,\n",
    "                                     x=x_train_60,\n",
    "                                     y=y_train_60)\n",
    "rf_clf = Pipeline([\n",
    "    ('tf', tfidf_jobs),\n",
    "    ('clf', tunned_nb_estimator),\n",
    "])\n",
    "\n",
    "rf_clf.fit(x_train_60, y_train_60)\n",
    "pred = rf_clf.predict(x_test_20)\n",
    "accuracy = np.mean(pred == y_test_20)\n",
    "cross_val = cross_val_score(rf_clf, x_val_20, y_val_20, cv=10)\n",
    "print(f\"accuracy: {accuracy}, 10-fold: {np.mean(cross_val)}\")"
   ]
  },
  {
   "cell_type": "markdown",
   "metadata": {},
   "source": [
    "### Linear SVM"
   ]
  },
  {
   "cell_type": "code",
   "execution_count": 27,
   "metadata": {},
   "outputs": [
    {
     "name": "stderr",
     "output_type": "stream",
     "text": [
      "C:\\Users\\zwang684\\AppData\\Local\\Packages\\PythonSoftwareFoundation.Python.3.9_qbz5n2kfra8p0\\LocalCache\\local-packages\\Python39\\site-packages\\sklearn\\model_selection\\_split.py:676: UserWarning: The least populated class in y has only 1 members, which is less than n_splits=4.\n",
      "  warnings.warn(\n",
      "C:\\Users\\zwang684\\AppData\\Local\\Packages\\PythonSoftwareFoundation.Python.3.9_qbz5n2kfra8p0\\LocalCache\\local-packages\\Python39\\site-packages\\sklearn\\model_selection\\_split.py:676: UserWarning: The least populated class in y has only 1 members, which is less than n_splits=10.\n",
      "  warnings.warn(\n"
     ]
    },
    {
     "name": "stdout",
     "output_type": "stream",
     "text": [
      "accuracy: 0.5462633451957295, 10-fold: 0.3725877192982456\n"
     ]
    }
   ],
   "source": [
    "from sklearn.svm import SVC\n",
    "crit= [{\"C\": [0.001, 0.01, 0.1, 1],\n",
    "        \"kernel\":['linear','poly','rbf'], # note that, all the segmoid kernel cases failed in the fitting process, so it's omitted\n",
    "        \"gamma\": ['auto', 'scale']}\n",
    "       ]\n",
    "\n",
    "tunned_svm_estimator = helper.tunning(model= SVC(),\n",
    "                                     vectorizer=tfidf_jobs,\n",
    "                                     crit=crit,\n",
    "                                     cv=4,\n",
    "                                     x=x_train_60,\n",
    "                                     y=y_train_60)\n",
    "svm_clf = Pipeline([\n",
    "    ('tf', tfidf_jobs),\n",
    "    ('clf', tunned_svm_estimator),\n",
    "])\n",
    "\n",
    "svm_clf.fit(x_train_60, y_train_60)\n",
    "pred = svm_clf.predict(x_test_20)\n",
    "accuracy = np.mean(pred == y_test_20)\n",
    "cross_val = cross_val_score(svm_clf, x_val_20, y_val_20, cv=10)\n",
    "print(f\"accuracy: {accuracy}, 10-fold: {np.mean(cross_val)}\")"
   ]
  },
  {
   "cell_type": "markdown",
   "metadata": {},
   "source": [
    "### KNN"
   ]
  },
  {
   "cell_type": "code",
   "execution_count": 30,
   "metadata": {},
   "outputs": [
    {
     "name": "stderr",
     "output_type": "stream",
     "text": [
      "C:\\Users\\zwang684\\AppData\\Local\\Packages\\PythonSoftwareFoundation.Python.3.9_qbz5n2kfra8p0\\LocalCache\\local-packages\\Python39\\site-packages\\sklearn\\model_selection\\_split.py:676: UserWarning: The least populated class in y has only 1 members, which is less than n_splits=10.\n",
      "  warnings.warn(\n",
      "C:\\Users\\zwang684\\AppData\\Local\\Packages\\PythonSoftwareFoundation.Python.3.9_qbz5n2kfra8p0\\LocalCache\\local-packages\\Python39\\site-packages\\sklearn\\model_selection\\_split.py:676: UserWarning: The least populated class in y has only 1 members, which is less than n_splits=10.\n",
      "  warnings.warn(\n"
     ]
    },
    {
     "name": "stdout",
     "output_type": "stream",
     "text": [
      "accuracy: 0.5569395017793595, 10-fold: 0.3369360902255639\n"
     ]
    }
   ],
   "source": [
    "from sklearn.neighbors import KNeighborsClassifier\n",
    "crit= [{\"n_neighbors\":range(3,40),\n",
    "        \"weights\": ['uniform', 'distance']}\n",
    "       ]\n",
    "\n",
    "tunned_knn_estimator = helper.tunning(model= KNeighborsClassifier(),\n",
    "                                     vectorizer=tfidf_jobs,\n",
    "                                     crit=crit,\n",
    "                                     cv=10,\n",
    "                                     x=x_train_60,\n",
    "                                     y=y_train_60)\n",
    "knn_clf = Pipeline([\n",
    "    ('tf', tfidf_jobs),\n",
    "    ('clf', tunned_knn_estimator),\n",
    "])\n",
    "\n",
    "knn_clf.fit(x_train_60, y_train_60)\n",
    "pred = knn_clf.predict(x_test_20)\n",
    "accuracy = np.mean(pred == y_test_20)\n",
    "cross_val = cross_val_score(knn_clf, x_val_20, y_val_20, cv=10)\n",
    "print(f\"accuracy: {accuracy}, 10-fold: {np.mean(cross_val)}\")"
   ]
  },
  {
   "cell_type": "code",
   "execution_count": 31,
   "metadata": {},
   "outputs": [
    {
     "name": "stderr",
     "output_type": "stream",
     "text": [
      "C:\\Users\\zwang684\\AppData\\Local\\Packages\\PythonSoftwareFoundation.Python.3.9_qbz5n2kfra8p0\\LocalCache\\local-packages\\Python39\\site-packages\\sklearn\\model_selection\\_split.py:676: UserWarning: The least populated class in y has only 1 members, which is less than n_splits=10.\n",
      "  warnings.warn(\n",
      "C:\\Users\\zwang684\\AppData\\Local\\Packages\\PythonSoftwareFoundation.Python.3.9_qbz5n2kfra8p0\\LocalCache\\local-packages\\Python39\\site-packages\\sklearn\\model_selection\\_split.py:676: UserWarning: The least populated class in y has only 1 members, which is less than n_splits=10.\n",
      "  warnings.warn(\n"
     ]
    },
    {
     "name": "stdout",
     "output_type": "stream",
     "text": [
      "accuracy: 0.5534441805225653, 10-fold: 0.2946843853820599\n"
     ]
    }
   ],
   "source": [
    "tunned_knn_estimator = helper.tunning(model= KNeighborsClassifier(),\n",
    "                                     vectorizer=tfidf_jobs,\n",
    "                                     crit=crit,\n",
    "                                     cv=10,\n",
    "                                     x=x_train_70,\n",
    "                                     y=y_train_70)\n",
    "knn_clf = Pipeline([\n",
    "    ('tf', tfidf_jobs),\n",
    "    ('clf', tunned_knn_estimator),\n",
    "])\n",
    "\n",
    "knn_clf.fit(x_train_70, y_train_70)\n",
    "pred = knn_clf.predict(x_test_15)\n",
    "accuracy = np.mean(pred == y_test_15)\n",
    "cross_val = cross_val_score(knn_clf, x_val_15, y_val_15, cv=10)\n",
    "print(f\"accuracy: {accuracy}, 10-fold: {np.mean(cross_val)}\")"
   ]
  },
  {
   "cell_type": "code",
   "execution_count": 34,
   "metadata": {},
   "outputs": [
    {
     "name": "stderr",
     "output_type": "stream",
     "text": [
      "C:\\Users\\zwang684\\AppData\\Local\\Packages\\PythonSoftwareFoundation.Python.3.9_qbz5n2kfra8p0\\LocalCache\\local-packages\\Python39\\site-packages\\sklearn\\model_selection\\_split.py:676: UserWarning: The least populated class in y has only 1 members, which is less than n_splits=10.\n",
      "  warnings.warn(\n",
      "C:\\Users\\zwang684\\AppData\\Local\\Packages\\PythonSoftwareFoundation.Python.3.9_qbz5n2kfra8p0\\LocalCache\\local-packages\\Python39\\site-packages\\sklearn\\model_selection\\_split.py:676: UserWarning: The least populated class in y has only 1 members, which is less than n_splits=10.\n",
      "  warnings.warn(\n"
     ]
    },
    {
     "name": "stdout",
     "output_type": "stream",
     "text": [
      "accuracy: 0.5729537366548043, 10-fold: 0.28448275862068967\n"
     ]
    }
   ],
   "source": [
    "from sklearn.neighbors import KNeighborsClassifier\n",
    "crit= [{\"n_neighbors\":range(3,40),\n",
    "        \"weights\": ['uniform', 'distance']}\n",
    "       ]\n",
    "\n",
    "tunned_knn_estimator = helper.tunning(model= KNeighborsClassifier(),\n",
    "                                     vectorizer=tfidf_jobs,\n",
    "                                     crit=crit,\n",
    "                                     cv=10,\n",
    "                                     x=x_train_80,\n",
    "                                     y=y_train_80)\n",
    "knn_clf = Pipeline([\n",
    "    ('tf', tfidf_jobs),\n",
    "    ('clf', tunned_knn_estimator),\n",
    "])\n",
    "\n",
    "knn_clf.fit(x_train_80, y_train_80)\n",
    "pred = knn_clf.predict(x_test_10)\n",
    "accuracy = np.mean(pred == y_test_10)\n",
    "cross_val = cross_val_score(knn_clf, x_val_10, y_val_10, cv=10)\n",
    "print(f\"accuracy: {accuracy}, 10-fold: {np.mean(cross_val)}\")"
   ]
  },
  {
   "cell_type": "markdown",
   "metadata": {},
   "source": [
    "# Train and predict resume"
   ]
  },
  {
   "cell_type": "code",
   "execution_count": null,
   "metadata": {},
   "outputs": [],
   "source": []
  }
 ],
 "metadata": {
  "interpreter": {
   "hash": "69eb92836b941e979072a76c7fcfffe5419cca933cedd02cfafbdfca1a93358c"
  },
  "kernelspec": {
   "display_name": "Python 3.9.10 64-bit",
   "language": "python",
   "name": "python3"
  },
  "language_info": {
   "codemirror_mode": {
    "name": "ipython",
    "version": 3
   },
   "file_extension": ".py",
   "mimetype": "text/x-python",
   "name": "python",
   "nbconvert_exporter": "python",
   "pygments_lexer": "ipython3",
   "version": "3.9.10"
  },
  "orig_nbformat": 4
 },
 "nbformat": 4,
 "nbformat_minor": 2
}
