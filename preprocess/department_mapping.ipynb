{
 "cells": [
  {
   "cell_type": "code",
   "execution_count": 2,
   "metadata": {},
   "outputs": [],
   "source": [
    "import pandas as pd\n",
    "import numpy as np\n"
   ]
  },
  {
   "cell_type": "markdown",
   "metadata": {},
   "source": [
    "#### Load data"
   ]
  },
  {
   "cell_type": "code",
   "execution_count": 3,
   "metadata": {},
   "outputs": [],
   "source": [
    "fake_job = pd.read_csv('../data/fake_job.csv')\n",
    "fake_job = fake_job[fake_job['department'].isna() == False]"
   ]
  },
  {
   "cell_type": "code",
   "execution_count": 4,
   "metadata": {},
   "outputs": [
    {
     "data": {
      "text/plain": [
       "Sales                                          551\n",
       "Engineering                                    487\n",
       "Marketing                                      401\n",
       "Operations                                     270\n",
       "IT                                             225\n",
       "                                              ... \n",
       "Commercial Management / Contract Management      1\n",
       "Exec                                             1\n",
       "Marcomm                                          1\n",
       "CRM                                              1\n",
       "Hospitality                                      1\n",
       "Name: department, Length: 1337, dtype: int64"
      ]
     },
     "execution_count": 4,
     "metadata": {},
     "output_type": "execute_result"
    }
   ],
   "source": [
    "fake_job['department'].value_counts()"
   ]
  },
  {
   "cell_type": "code",
   "execution_count": 13,
   "metadata": {},
   "outputs": [],
   "source": [
    "job = dict()\n",
    "job['ny'] = pd.read_csv('../data/job_ny.csv')\n",
    "job['wa'] = pd.read_csv('../data/job_wa.csv')\n",
    "job['tx'] = pd.read_csv('../data/job_tx.csv')\n",
    "job['sf'] = pd.read_csv('../data/job_sf.csv')\n",
    "\n",
    "jobs = []\n",
    "for item in job:\n",
    "    jobs.append(job[item])\n",
    "jobs = pd.concat(jobs)\n",
    "jobs = jobs[jobs['Industry'].isna() == False]"
   ]
  },
  {
   "cell_type": "code",
   "execution_count": 15,
   "metadata": {},
   "outputs": [
    {
     "data": {
      "text/plain": [
       "Information Technology                679\n",
       "Business Services                     583\n",
       "Biotech & Pharmaceuticals             317\n",
       "Health Care                           232\n",
       "Finance                               223\n",
       "Aerospace & Defense                   144\n",
       "Government                            105\n",
       "Construction, Repair & Maintenance     66\n",
       "Retail                                 63\n",
       "Education                              60\n",
       "Manufacturing                          42\n",
       "Telecommunications                     35\n",
       "Insurance                              29\n",
       "Accounting & Legal                     29\n",
       "Media                                  29\n",
       "Oil, Gas, Energy & Utilities           28\n",
       "Non-Profit                             10\n",
       "Transportation & Logistics              8\n",
       "Consumer Services                       7\n",
       "Real Estate                             5\n",
       "Restaurants, Bars & Food Services       3\n",
       "Arts, Entertainment & Recreation        2\n",
       "Agriculture & Forestry                  1\n",
       "Name: Industry, dtype: int64"
      ]
     },
     "execution_count": 15,
     "metadata": {},
     "output_type": "execute_result"
    }
   ],
   "source": [
    "jobs['Industry'].value_counts()"
   ]
  },
  {
   "cell_type": "code",
   "execution_count": 19,
   "metadata": {},
   "outputs": [
    {
     "data": {
      "text/plain": [
       "Engineering                121\n",
       "Information Technology     104\n",
       "Education                  102\n",
       "Health & Fitness            77\n",
       "Managment                   74\n",
       "Accountant                  67\n",
       "Finance                     66\n",
       "Advocate                    61\n",
       "Sales                       61\n",
       "Digital Media               54\n",
       "Designing                   51\n",
       "Banking                     48\n",
       "Business Development        44\n",
       "Arts                        43\n",
       "HR                          41\n",
       "Building & Construction     29\n",
       "Automobile                  27\n",
       "Consultant                  26\n",
       "BPO                         25\n",
       "Agricultural                24\n",
       "Food & Beverages            22\n",
       "Apparel                     14\n",
       "Public Relations            13\n",
       "Aviation                    13\n",
       "Architects                  12\n",
       "Name: Category, dtype: int64"
      ]
     },
     "execution_count": 19,
     "metadata": {},
     "output_type": "execute_result"
    }
   ],
   "source": [
    "resume = pd.read_csv('../data/resume.csv')\n",
    "resume['Category'].value_counts()"
   ]
  },
  {
   "cell_type": "markdown",
   "metadata": {},
   "source": [
    "#### Mapping"
   ]
  },
  {
   "cell_type": "code",
   "execution_count": 68,
   "metadata": {},
   "outputs": [],
   "source": [
    "threshold = 50\n",
    "a = fake_job['department'].value_counts()\n",
    "a = a[a > threshold]\n",
    "b = jobs['Industry'].value_counts()\n",
    "b = b[b > threshold]\n",
    "c = resume['Category'].value_counts()\n",
    "c = c[c > threshold]"
   ]
  },
  {
   "cell_type": "code",
   "execution_count": 103,
   "metadata": {},
   "outputs": [
    {
     "data": {
      "text/plain": [
       "225                                    Settlements Analyst\n",
       "291                                   Financial Accountant\n",
       "417      PM with BA/Developer experience in SmartStream...\n",
       "757                               Accounts Payable Manager\n",
       "996            Financial Analyst / Intermediate Accountant\n",
       "                               ...                        \n",
       "15907                       Fraud and Card Payment Manager\n",
       "16005                  Finance Assistant Temp to Perm Role\n",
       "16076                                   Accounting Manager\n",
       "16177                                           Controller\n",
       "17488                                Management Accountant\n",
       "Name: title, Length: 69, dtype: object"
      ]
     },
     "execution_count": 103,
     "metadata": {},
     "output_type": "execute_result"
    }
   ],
   "source": [
    "fake_job[fake_job['department'] == 'Finance']['title']"
   ]
  },
  {
   "cell_type": "code",
   "execution_count": 99,
   "metadata": {},
   "outputs": [
    {
     "data": {
      "text/html": [
       "<div>\n",
       "<style scoped>\n",
       "    .dataframe tbody tr th:only-of-type {\n",
       "        vertical-align: middle;\n",
       "    }\n",
       "\n",
       "    .dataframe tbody tr th {\n",
       "        vertical-align: top;\n",
       "    }\n",
       "\n",
       "    .dataframe thead th {\n",
       "        text-align: right;\n",
       "    }\n",
       "</style>\n",
       "<table border=\"1\" class=\"dataframe\">\n",
       "  <thead>\n",
       "    <tr style=\"text-align: right;\">\n",
       "      <th></th>\n",
       "      <th>ID</th>\n",
       "      <th>Category</th>\n",
       "      <th>Resume</th>\n",
       "    </tr>\n",
       "  </thead>\n",
       "  <tbody>\n",
       "    <tr>\n",
       "      <th>603</th>\n",
       "      <td>604</td>\n",
       "      <td>Sales</td>\n",
       "      <td>b'Auctioneer Resume Template\\nAuctioneer Resum...</td>\n",
       "    </tr>\n",
       "    <tr>\n",
       "      <th>604</th>\n",
       "      <td>605</td>\n",
       "      <td>Sales</td>\n",
       "      <td>b'Computer Sales Resume Template\\n\\nDave Bunti...</td>\n",
       "    </tr>\n",
       "    <tr>\n",
       "      <th>605</th>\n",
       "      <td>606</td>\n",
       "      <td>Sales</td>\n",
       "      <td>b'Retail Sales Manager Resume Template\\n\\nJoye...</td>\n",
       "    </tr>\n",
       "    <tr>\n",
       "      <th>606</th>\n",
       "      <td>607</td>\n",
       "      <td>Sales</td>\n",
       "      <td>b\"Sales Associate Supervisor Resume\\nRichard A...</td>\n",
       "    </tr>\n",
       "    <tr>\n",
       "      <th>607</th>\n",
       "      <td>608</td>\n",
       "      <td>Sales</td>\n",
       "      <td>b'Sales Representative Resume Template\\n\\nTani...</td>\n",
       "    </tr>\n",
       "    <tr>\n",
       "      <th>...</th>\n",
       "      <td>...</td>\n",
       "      <td>...</td>\n",
       "      <td>...</td>\n",
       "    </tr>\n",
       "    <tr>\n",
       "      <th>659</th>\n",
       "      <td>660</td>\n",
       "      <td>Sales</td>\n",
       "      <td>b'Purchasing Agent Resume Template\\n\\nAudrey B...</td>\n",
       "    </tr>\n",
       "    <tr>\n",
       "      <th>660</th>\n",
       "      <td>661</td>\n",
       "      <td>Sales</td>\n",
       "      <td>b'999 Main Street\\nAny Town, NY 99999\\nHome Ph...</td>\n",
       "    </tr>\n",
       "    <tr>\n",
       "      <th>661</th>\n",
       "      <td>662</td>\n",
       "      <td>Sales</td>\n",
       "      <td>b'SAMPLE RESUME FOR A\\nRETAIL SALES ASSOCIATE ...</td>\n",
       "    </tr>\n",
       "    <tr>\n",
       "      <th>662</th>\n",
       "      <td>663</td>\n",
       "      <td>Sales</td>\n",
       "      <td>b'AJIT KUMAR\\n\\xef\\x80\\xa9: + 91-85271xxxxx\\n\\...</td>\n",
       "    </tr>\n",
       "    <tr>\n",
       "      <th>663</th>\n",
       "      <td>664</td>\n",
       "      <td>Sales</td>\n",
       "      <td>b'Sales Clerk Resume Template\\n\\nJoye Thompson...</td>\n",
       "    </tr>\n",
       "  </tbody>\n",
       "</table>\n",
       "<p>61 rows × 3 columns</p>\n",
       "</div>"
      ],
      "text/plain": [
       "      ID Category                                             Resume\n",
       "603  604    Sales  b'Auctioneer Resume Template\\nAuctioneer Resum...\n",
       "604  605    Sales  b'Computer Sales Resume Template\\n\\nDave Bunti...\n",
       "605  606    Sales  b'Retail Sales Manager Resume Template\\n\\nJoye...\n",
       "606  607    Sales  b\"Sales Associate Supervisor Resume\\nRichard A...\n",
       "607  608    Sales  b'Sales Representative Resume Template\\n\\nTani...\n",
       "..   ...      ...                                                ...\n",
       "659  660    Sales  b'Purchasing Agent Resume Template\\n\\nAudrey B...\n",
       "660  661    Sales  b'999 Main Street\\nAny Town, NY 99999\\nHome Ph...\n",
       "661  662    Sales  b'SAMPLE RESUME FOR A\\nRETAIL SALES ASSOCIATE ...\n",
       "662  663    Sales  b'AJIT KUMAR\\n\\xef\\x80\\xa9: + 91-85271xxxxx\\n\\...\n",
       "663  664    Sales  b'Sales Clerk Resume Template\\n\\nJoye Thompson...\n",
       "\n",
       "[61 rows x 3 columns]"
      ]
     },
     "execution_count": 99,
     "metadata": {},
     "output_type": "execute_result"
    }
   ],
   "source": [
    "resume[resume['Category'] == 'Sales']"
   ]
  },
  {
   "cell_type": "code",
   "execution_count": 71,
   "metadata": {},
   "outputs": [
    {
     "data": {
      "text/plain": [
       "Sales                     551\n",
       "Engineering               487\n",
       "Marketing                 401\n",
       "Operations                270\n",
       "IT                        225\n",
       "Development               146\n",
       "Product                   112\n",
       "Information Technology     86\n",
       "Design                     76\n",
       "Technology                 76\n",
       "Customer Service           73\n",
       "Finance                    69\n",
       "HR                         56\n",
       "tech                       55\n",
       "R&D                        54\n",
       "Name: department, dtype: int64"
      ]
     },
     "execution_count": 71,
     "metadata": {},
     "output_type": "execute_result"
    }
   ],
   "source": [
    "a"
   ]
  },
  {
   "cell_type": "code",
   "execution_count": 69,
   "metadata": {},
   "outputs": [
    {
     "data": {
      "text/plain": [
       "Information Technology                679\n",
       "Business Services                     583\n",
       "Biotech & Pharmaceuticals             317\n",
       "Health Care                           232\n",
       "Finance                               223\n",
       "Aerospace & Defense                   144\n",
       "Government                            105\n",
       "Construction, Repair & Maintenance     66\n",
       "Retail                                 63\n",
       "Education                              60\n",
       "Name: Industry, dtype: int64"
      ]
     },
     "execution_count": 69,
     "metadata": {},
     "output_type": "execute_result"
    }
   ],
   "source": [
    "b"
   ]
  },
  {
   "cell_type": "code",
   "execution_count": 70,
   "metadata": {},
   "outputs": [
    {
     "data": {
      "text/plain": [
       "Engineering               121\n",
       "Information Technology    104\n",
       "Education                 102\n",
       "Health & Fitness           77\n",
       "Managment                  74\n",
       "Accountant                 67\n",
       "Finance                    66\n",
       "Advocate                   61\n",
       "Sales                      61\n",
       "Digital Media              54\n",
       "Designing                  51\n",
       "Name: Category, dtype: int64"
      ]
     },
     "execution_count": 70,
     "metadata": {},
     "output_type": "execute_result"
    }
   ],
   "source": [
    "c"
   ]
  },
  {
   "cell_type": "code",
   "execution_count": 108,
   "metadata": {},
   "outputs": [],
   "source": [
    "category_map = dict()\n",
    "SALE = 'sales'\n",
    "ENGINEERING = 'engineering'\n",
    "MARKETING = 'marketing'\n",
    "OPEARTION = 'operation'\n",
    "IT = 'it'\n",
    "HEALTH = 'health'\n",
    "RESEARCH = 'research'\n",
    "CONSTRUCTION = 'construction'\n",
    "EDUCATION = 'education'\n",
    "CUSTOMER = 'customer'"
   ]
  },
  {
   "cell_type": "code",
   "execution_count": 111,
   "metadata": {},
   "outputs": [],
   "source": [
    "category_map = dict.fromkeys(['sales', 'retail'], SALE)\n",
    "category_map.update(dict.fromkeys(['engineering'], ENGINEERING))\n",
    "category_map.update(dict.fromkeys(['operations'], OPEARTION))\n",
    "category_map.update(dict.fromkeys(['it', 'development', 'product', 'information technology', 'design', 'technology', 'tech', 'designing'], IT))\n",
    "category_map.update(dict.fromkeys(['customer service'], CUSTOMER))\n",
    "category_map.update(dict.fromkeys(['r&d', 'business services', 'aerospace & defense', 'government'], RESEARCH))\n",
    "category_map.update(dict.fromkeys(['health care', 'biotech & pharmaceuticals', 'health & fitness'], HEALTH))\n",
    "category_map.update(dict.fromkeys(['construction, repair & maintenance'], CONSTRUCTION))\n",
    "category_map.update(dict.fromkeys(['education'], EDUCATION))"
   ]
  }
 ],
 "metadata": {
  "interpreter": {
   "hash": "dd6e274271fa1c760239ba3e02bf399206203edc4ed40ec84a071cab12e11cbf"
  },
  "kernelspec": {
   "display_name": "Python 3.9.12 64-bit (windows store)",
   "language": "python",
   "name": "python3"
  },
  "language_info": {
   "codemirror_mode": {
    "name": "ipython",
    "version": 3
   },
   "file_extension": ".py",
   "mimetype": "text/x-python",
   "name": "python",
   "nbconvert_exporter": "python",
   "pygments_lexer": "ipython3",
   "version": "3.9.12"
  },
  "orig_nbformat": 4
 },
 "nbformat": 4,
 "nbformat_minor": 2
}
